{
 "cells": [
  {
   "cell_type": "code",
   "execution_count": 1,
   "metadata": {},
   "outputs": [],
   "source": [
    "import pandas as pd\n",
    "import numpy as np\n",
    "import sys\n",
    "import warnings\n",
    "warnings.filterwarnings('ignore')\n",
    "from collections import Counter\n",
    "from sklearn.preprocessing import MinMaxScaler\n",
    "sys.path.append('/../src/')\n",
    "from stats_eda import replace_outliers_with_sd, replace_column_outliers\n",
    "from stats_eda import run_ANOVA_plates, plot_by_plate, get_ttest_wells\n"
   ]
  },
  {
   "cell_type": "code",
   "execution_count": 2,
   "metadata": {},
   "outputs": [],
   "source": [
    "file = '../BRI/PAM194_Keratino_CytoPanel_1/pam194ObjCell.pkl'\n",
    "df = pd.read_pickle(file)\n",
    "features = df.columns[6:]"
   ]
  },
  {
   "cell_type": "markdown",
   "metadata": {},
   "source": [
    "### detect outliers by checking distributions performed between same experiments in different wells"
   ]
  },
  {
   "cell_type": "code",
   "execution_count": 16,
   "metadata": {},
   "outputs": [],
   "source": [
    "from tqdm import tqdm"
   ]
  },
  {
   "cell_type": "code",
   "execution_count": 17,
   "metadata": {},
   "outputs": [
    {
     "name": "stderr",
     "output_type": "stream",
     "text": [
      "100%|██████████| 66/66 [07:44<00:00,  7.04s/it]\n"
     ]
    }
   ],
   "source": [
    "cdw = df.groupby(by=['Metadata_Metadata_Cytokine', \n",
    "                    'Metadata_Metadata_Dose',\n",
    "                    'Metadata_Well']).mean().index\n",
    "\n",
    "# n = 4\n",
    "sds = [5,6]\n",
    "idx_sd = {i:[] for i in sds}\n",
    "idx_iqr = []\n",
    "# running thru each pair of cytokine and dosage\n",
    "for i in tqdm(cdw):\n",
    "    c = i[0]\n",
    "    d = i[1]\n",
    "    w = i[2]\n",
    "    # running thru every feature and find outliers\n",
    "    for feature in features:\n",
    "        # sub_df[feature] = replace_column_outliers(sub_df[feature]).values\n",
    "        idx_sds = replace_outliers_with_sd(df, feature, c, d, w, sds)\n",
    "        for k, v in zip(idx_sds.keys(), idx_sds.values()):\n",
    "            idx_sd[k] += v\n",
    "            # idx_sd[k] = list(set(idx_sd[k]))\n",
    "        idx_iqr += replace_column_outliers(df, feature, c, d, w)\n",
    "    "
   ]
  },
  {
   "cell_type": "code",
   "execution_count": 24,
   "metadata": {},
   "outputs": [],
   "source": [
    "# count the appearance of one row in across all the variables\n",
    "\n",
    "idx_iqr_cnt = Counter(idx_iqr)"
   ]
  },
  {
   "cell_type": "code",
   "execution_count": 1,
   "metadata": {},
   "outputs": [],
   "source": [
    "# count the appearance of one row in across all the variables\n",
    "\n",
    "idx_sds_cnt = {}\n",
    "for k, v in zip(idx_sd.keys(), idx_sd.values()):\n",
    "    idx_sds_cnt[k] = Counter(v)\n",
    "idx_sds_cnt"
   ]
  },
  {
   "cell_type": "code",
   "execution_count": 26,
   "metadata": {},
   "outputs": [],
   "source": [
    "# remove duplicate indexes\n",
    "\n",
    "idx_iqr = list(set(idx_iqr))\n",
    "for k, v in zip(idx_sds.keys(), idx_sds.values()):\n",
    "    idx_sd[k] = list(set(idx_sd[k]))"
   ]
  },
  {
   "cell_type": "markdown",
   "metadata": {},
   "source": [
    "### try removing points X sds away from the mean and see results from t-tests"
   ]
  },
  {
   "cell_type": "code",
   "execution_count": 28,
   "metadata": {},
   "outputs": [
    {
     "name": "stdout",
     "output_type": "stream",
     "text": [
      "64884\n",
      "8882\n",
      "5272\n",
      "(94370, 104)\n"
     ]
    }
   ],
   "source": [
    "print(len(idx_iqr))\n",
    "for i in sds:\n",
    "    print(len(idx_sd[i]))\n",
    "print(df.shape)"
   ]
  },
  {
   "cell_type": "code",
   "execution_count": 29,
   "metadata": {},
   "outputs": [
    {
     "name": "stdout",
     "output_type": "stream",
     "text": [
      "29486\n",
      "85488\n",
      "89098\n"
     ]
    }
   ],
   "source": [
    "df_sd_removed = {i:df.drop(idx_sd[i], axis=0) for i in sds}\n",
    "df_iqr = df.drop(idx_iqr, axis=0)\n",
    "print(df_iqr.shape[0])\n",
    "for i in sds:\n",
    "    print(df_sd_removed[i].shape[0])"
   ]
  },
  {
   "cell_type": "code",
   "execution_count": 30,
   "metadata": {},
   "outputs": [
    {
     "name": "stdout",
     "output_type": "stream",
     "text": [
      "2885\n",
      "8196\n",
      "8503\n"
     ]
    }
   ],
   "source": [
    "# by plates\n",
    "df_sd_removed_untr = {}\n",
    "for k, v in zip(df_sd_removed.keys(), df_sd_removed.values()):\n",
    "    tmp = pd.concat([v[v['Metadata_Metadata_Cytokine']=='untr'], v[v['Metadata_Metadata_Cytokine']=='untr-50']])\n",
    "    df_sd_removed_untr[k] = tmp\n",
    "# df_sd5_untr = pd.concat([df_sd5[df_sd5['Metadata_Metadata_Cytokine']=='untr'], df_sd5[df_sd5['Metadata_Metadata_Cytokine']=='untr-50']])\n",
    "# df_sd6_untr = pd.concat([df_sd6[df_sd6['Metadata_Metadata_Cytokine']=='untr'], df_sd6[df_sd6['Metadata_Metadata_Cytokine']=='untr-50']])\n",
    "df_iqr_untr = pd.concat([df_iqr[df_iqr['Metadata_Metadata_Cytokine']=='untr'], df_iqr[df_iqr['Metadata_Metadata_Cytokine']=='untr-50']])\n",
    "\n",
    "print(df_iqr_untr.shape[0])\n",
    "for i in sds:\n",
    "    print(df_sd_removed_untr[i].shape[0])"
   ]
  },
  {
   "cell_type": "code",
   "execution_count": 31,
   "metadata": {},
   "outputs": [],
   "source": [
    "feature = 'Granularity_1_CorrActin'"
   ]
  },
  {
   "cell_type": "code",
   "execution_count": 46,
   "metadata": {},
   "outputs": [
    {
     "name": "stdout",
     "output_type": "stream",
     "text": [
      "IQR\n",
      "(  Cytokine                  Feature      F-stat        P-value\n",
      "0     untr  Granularity_1_CorrActin  257.900013  6.447053e-102, 1.0)\n",
      "5 sds\n",
      "(  Cytokine                  Feature      F-stat        P-value\n",
      "0     untr  Granularity_1_CorrActin  443.984937  1.230771e-181, 1.0)\n",
      "6 sds\n",
      "(  Cytokine                  Feature      F-stat        P-value\n",
      "0     untr  Granularity_1_CorrActin  444.957925  2.089994e-182, 1.0)\n"
     ]
    }
   ],
   "source": [
    "print('IQR')\n",
    "print(run_ANOVA_plates('untr', feature, df_iqr_untr))\n",
    "print('5 sds')\n",
    "print(run_ANOVA_plates('untr', feature, df_sd_removed_untr[5]))\n",
    "print('6 sds')\n",
    "print(run_ANOVA_plates('untr', feature, df_sd_removed_untr[6]))"
   ]
  },
  {
   "cell_type": "code",
   "execution_count": 42,
   "metadata": {},
   "outputs": [
    {
     "data": {
      "text/plain": [
       "array(['Plate 3'], dtype=object)"
      ]
     },
     "execution_count": 42,
     "metadata": {},
     "output_type": "execute_result"
    }
   ],
   "source": [
    "# cannot run ANOVA on untr-50 since there is only one plate\n",
    "df_iqr_untr[df_iqr_untr['Metadata_Metadata_Cytokine']=='untr-50']['Metadata_Plate'].unique()"
   ]
  },
  {
   "cell_type": "code",
   "execution_count": 47,
   "metadata": {},
   "outputs": [
    {
     "data": {
      "image/png": "[encoded data removed]",
      "text/plain": [
       "<Figure size 800x600 with 1 Axes>"
      ]
     },
     "metadata": {},
     "output_type": "display_data"
    }
   ],
   "source": [
    "plot_by_plate('untr', feature, df_iqr_untr)"
   ]
  },
  {
   "cell_type": "code",
   "execution_count": 48,
   "metadata": {},
   "outputs": [
    {
     "data": {
      "image/png": "[encoded data removed]",
      "text/plain": [
       "<Figure size 800x600 with 1 Axes>"
      ]
     },
     "metadata": {},
     "output_type": "display_data"
    }
   ],
   "source": [
    "plot_by_plate('untr', feature, df_sd_removed_untr[5])"
   ]
  },
  {
   "cell_type": "code",
   "execution_count": 49,
   "metadata": {},
   "outputs": [
    {
     "data": {
      "image/png": "[encoded data removed]",
      "text/plain": [
       "<Figure size 800x600 with 1 Axes>"
      ]
     },
     "metadata": {},
     "output_type": "display_data"
    }
   ],
   "source": [
    "plot_by_plate('untr', feature, df_sd_removed_untr[6])"
   ]
  },
  {
   "cell_type": "code",
   "execution_count": 55,
   "metadata": {},
   "outputs": [
    {
     "name": "stdout",
     "output_type": "stream",
     "text": [
      "IQR\n",
      " Multiple Comparison of Means - Tukey HSD, FWER=0.05  \n",
      "======================================================\n",
      " group1  group2 meandiff p-adj   lower   upper  reject\n",
      "------------------------------------------------------\n",
      "Plate 1 Plate 2  -1.3453 0.0037 -2.3256  -0.365   True\n",
      "Plate 1 Plate 3   8.4386    0.0  7.3656  9.5117   True\n",
      "Plate 2 Plate 3    9.784    0.0  8.7166 10.8513   True\n",
      "------------------------------------------------------\n",
      "5 sds\n",
      " Multiple Comparison of Means - Tukey HSD, FWER=0.05 \n",
      "=====================================================\n",
      " group1  group2 meandiff p-adj  lower   upper  reject\n",
      "-----------------------------------------------------\n",
      "Plate 1 Plate 2  -2.7005   0.0 -3.3921 -2.0088   True\n",
      "Plate 1 Plate 3   6.8119   0.0  6.0281  7.5958   True\n",
      "Plate 2 Plate 3   9.5124   0.0  8.7591 10.2657   True\n",
      "-----------------------------------------------------\n",
      "6 sds\n",
      " Multiple Comparison of Means - Tukey HSD, FWER=0.05 \n",
      "=====================================================\n",
      " group1  group2 meandiff p-adj  lower   upper  reject\n",
      "-----------------------------------------------------\n",
      "Plate 1 Plate 2  -2.8281  -0.0 -3.5124 -2.1437   True\n",
      "Plate 1 Plate 3   6.5817  -0.0   5.808  7.3555   True\n",
      "Plate 2 Plate 3   9.4098  -0.0  8.6669 10.1527   True\n",
      "-----------------------------------------------------\n",
      "original df\n",
      " Multiple Comparison of Means - Tukey HSD, FWER=0.05 \n",
      "=====================================================\n",
      " group1  group2 meandiff p-adj  lower   upper  reject\n",
      "-----------------------------------------------------\n",
      "Plate 1 Plate 2  -2.7659   0.0 -3.4507 -2.0811   True\n",
      "Plate 1 Plate 3   6.4583   0.0  5.6857   7.231   True\n",
      "Plate 2 Plate 3   9.2242   0.0  8.4815  9.9669   True\n",
      "-----------------------------------------------------\n"
     ]
    }
   ],
   "source": [
    "# made slight changes to Matthew's plate_Tukey_HSD here\n",
    "\n",
    "from statsmodels.stats.multicomp import pairwise_tukeyhsd\n",
    "def plate_Tukey_HSD(untr, feature, df):\n",
    "    untr_plates = df[(df['Metadata_Metadata_Cytokine'] == untr)]\n",
    "    untr_plates = untr_plates[['Metadata_Plate', feature]]\n",
    "    \n",
    "    res = pairwise_tukeyhsd(endog=untr_plates[feature],\n",
    "                          groups=untr_plates['Metadata_Plate'],\n",
    "                          alpha=0.05)\n",
    "    \n",
    "    return res\n",
    "\n",
    "print('IQR')\n",
    "print(plate_Tukey_HSD('untr', feature, df_iqr_untr))\n",
    "print('5 sds')\n",
    "print(plate_Tukey_HSD('untr', feature, df_sd_removed_untr[5]))\n",
    "print('6 sds')\n",
    "print(plate_Tukey_HSD('untr', feature, df_sd_removed_untr[6]))\n",
    "print('original df')\n",
    "print(plate_Tukey_HSD('untr', feature, df))\n",
    "# eda.plate_Tukey_HSD('untr', feature, df_sd5_untr)"
   ]
  },
  {
   "cell_type": "code",
   "execution_count": 63,
   "metadata": {},
   "outputs": [
    {
     "name": "stdout",
     "output_type": "stream",
     "text": [
      "  Cytokine                  Feature Well Comparison  T-Statistic  p-value  \\\n",
      "0      EGF  Granularity_1_CorrActin        F2 vs G2        1.749    0.081   \n",
      "\n",
      "   Power  \n",
      "0    1.0  \n",
      "  Cytokine                  Feature Well Comparison  T-Statistic  p-value  \\\n",
      "0      EGF  Granularity_1_CorrActin        F2 vs G2        1.749    0.081   \n",
      "\n",
      "   Power  \n",
      "0    1.0  \n",
      "  Cytokine                  Feature Well Comparison  T-Statistic  p-value  \\\n",
      "0      EGF  Granularity_1_CorrActin        F2 vs G2        1.749    0.081   \n",
      "\n",
      "   Power  \n",
      "0    1.0  \n",
      "  Cytokine                  Feature Well Comparison  T-Statistic  p-value  \\\n",
      "0      EGF  Granularity_1_CorrActin        F2 vs G2        1.749    0.081   \n",
      "\n",
      "   Power  \n",
      "0    1.0  \n",
      "  Cytokine                  Feature Well Comparison  T-Statistic  p-value  \\\n",
      "0      EGF  Granularity_1_CorrActin        F2 vs G2        1.749    0.081   \n",
      "\n",
      "   Power  \n",
      "0    1.0  \n",
      "  Cytokine                  Feature Well Comparison  T-Statistic  p-value  \\\n",
      "0      EGF  Granularity_1_CorrActin        F2 vs G2        1.749    0.081   \n",
      "\n",
      "   Power  \n",
      "0    1.0  \n",
      "  Cytokine                  Feature Well Comparison  T-Statistic  p-value  \\\n",
      "0      FGF  Granularity_1_CorrActin        B2 vs C2       -5.608      0.0   \n",
      "\n",
      "   Power  \n",
      "0    1.0  \n",
      "  Cytokine                  Feature Well Comparison  T-Statistic  p-value  \\\n",
      "0      FGF  Granularity_1_CorrActin        B2 vs C2       -5.608      0.0   \n",
      "\n",
      "   Power  \n",
      "0    1.0  \n",
      "  Cytokine                  Feature Well Comparison  T-Statistic  p-value  \\\n",
      "0      FGF  Granularity_1_CorrActin        B2 vs C2       -5.608      0.0   \n",
      "\n",
      "   Power  \n",
      "0    1.0  \n",
      "  Cytokine                  Feature Well Comparison  T-Statistic  p-value  \\\n",
      "0      FGF  Granularity_1_CorrActin        B2 vs C2       -5.608      0.0   \n",
      "\n",
      "   Power  \n",
      "0    1.0  \n",
      "  Cytokine                  Feature Well Comparison  T-Statistic  p-value  \\\n",
      "0      FGF  Granularity_1_CorrActin        B2 vs C2       -5.608      0.0   \n",
      "\n",
      "   Power  \n",
      "0    1.0  \n",
      "  Cytokine                  Feature Well Comparison  T-Statistic  p-value  \\\n",
      "0      FGF  Granularity_1_CorrActin        B2 vs C2       -5.608      0.0   \n",
      "\n",
      "   Power  \n",
      "0    1.0  \n",
      "  Cytokine                  Feature Well Comparison  T-Statistic  p-value  \\\n",
      "0     IFNg  Granularity_1_CorrActin        B9 vs C9        9.205      0.0   \n",
      "\n",
      "   Power  \n",
      "0    1.0  \n",
      "  Cytokine                  Feature Well Comparison  T-Statistic  p-value  \\\n",
      "0     IFNg  Granularity_1_CorrActin        B9 vs C9        9.205      0.0   \n",
      "\n",
      "   Power  \n",
      "0    1.0  \n",
      "  Cytokine                  Feature Well Comparison  T-Statistic  p-value  \\\n",
      "0     IFNg  Granularity_1_CorrActin        B9 vs C9        9.205      0.0   \n",
      "\n",
      "   Power  \n",
      "0    1.0  \n",
      "  Cytokine                  Feature Well Comparison  T-Statistic  p-value  \\\n",
      "0     IFNg  Granularity_1_CorrActin        B9 vs C9        9.205      0.0   \n",
      "\n",
      "   Power  \n",
      "0    1.0  \n",
      "  Cytokine                  Feature Well Comparison  T-Statistic  p-value  \\\n",
      "0     IFNg  Granularity_1_CorrActin        B9 vs C9        9.205      0.0   \n",
      "\n",
      "   Power  \n",
      "0    1.0  \n",
      "  Cytokine                  Feature Well Comparison  T-Statistic  p-value  \\\n",
      "0     IFNg  Granularity_1_CorrActin        B9 vs C9        9.205      0.0   \n",
      "\n",
      "   Power  \n",
      "0    1.0  \n",
      "  Cytokine                  Feature Well Comparison  T-Statistic  p-value  \\\n",
      "0     IL13  Granularity_1_CorrActin        F2 vs G2        0.997    0.319   \n",
      "\n",
      "   Power  \n",
      "0    1.0  \n",
      "  Cytokine                  Feature Well Comparison  T-Statistic  p-value  \\\n",
      "0     IL13  Granularity_1_CorrActin        F2 vs G2        0.997    0.319   \n",
      "\n",
      "   Power  \n",
      "0    1.0  \n",
      "  Cytokine                  Feature Well Comparison  T-Statistic  p-value  \\\n",
      "0     IL13  Granularity_1_CorrActin        F2 vs G2        0.997    0.319   \n",
      "\n",
      "   Power  \n",
      "0    1.0  \n",
      "  Cytokine                  Feature Well Comparison  T-Statistic  p-value  \\\n",
      "0     IL13  Granularity_1_CorrActin        F2 vs G2        0.997    0.319   \n",
      "\n",
      "   Power  \n",
      "0    1.0  \n",
      "  Cytokine                  Feature Well Comparison  T-Statistic  p-value  \\\n",
      "0     IL13  Granularity_1_CorrActin        F2 vs G2        0.997    0.319   \n",
      "\n",
      "   Power  \n",
      "0    1.0  \n",
      "  Cytokine                  Feature Well Comparison  T-Statistic  p-value  \\\n",
      "0     IL13  Granularity_1_CorrActin        F2 vs G2        0.997    0.319   \n",
      "\n",
      "   Power  \n",
      "0    1.0  \n",
      "  Cytokine                  Feature Well Comparison  T-Statistic  p-value  \\\n",
      "0     IL17  Granularity_1_CorrActin        F9 vs G9        4.124      0.0   \n",
      "\n",
      "   Power  \n",
      "0    1.0  \n",
      "  Cytokine                  Feature Well Comparison  T-Statistic  p-value  \\\n",
      "0     IL17  Granularity_1_CorrActin        F9 vs G9        4.124      0.0   \n",
      "\n",
      "   Power  \n",
      "0    1.0  \n",
      "  Cytokine                  Feature Well Comparison  T-Statistic  p-value  \\\n",
      "0     IL17  Granularity_1_CorrActin        F9 vs G9        4.124      0.0   \n",
      "\n",
      "   Power  \n",
      "0    1.0  \n",
      "  Cytokine                  Feature Well Comparison  T-Statistic  p-value  \\\n",
      "0     IL17  Granularity_1_CorrActin        F9 vs G9        4.124      0.0   \n",
      "\n",
      "   Power  \n",
      "0    1.0  \n",
      "  Cytokine                  Feature Well Comparison  T-Statistic  p-value  \\\n",
      "0     IL17  Granularity_1_CorrActin        F9 vs G9        4.124      0.0   \n",
      "\n",
      "   Power  \n",
      "0    1.0  \n",
      "  Cytokine                  Feature Well Comparison  T-Statistic  p-value  \\\n",
      "0     IL17  Granularity_1_CorrActin        F9 vs G9        4.124      0.0   \n",
      "\n",
      "   Power  \n",
      "0    1.0  \n",
      "  Cytokine                  Feature Well Comparison  T-Statistic  p-value  \\\n",
      "0     IL22  Granularity_1_CorrActin        B2 vs C2       -2.509    0.012   \n",
      "\n",
      "   Power  \n",
      "0    1.0  \n",
      "  Cytokine                  Feature Well Comparison  T-Statistic  p-value  \\\n",
      "0     IL22  Granularity_1_CorrActin        B2 vs C2       -2.509    0.012   \n",
      "\n",
      "   Power  \n",
      "0    1.0  \n",
      "  Cytokine                  Feature Well Comparison  T-Statistic  p-value  \\\n",
      "0     IL22  Granularity_1_CorrActin        B2 vs C2       -2.509    0.012   \n",
      "\n",
      "   Power  \n",
      "0    1.0  \n",
      "  Cytokine                  Feature Well Comparison  T-Statistic  p-value  \\\n",
      "0     IL22  Granularity_1_CorrActin        B2 vs C2       -2.509    0.012   \n",
      "\n",
      "   Power  \n",
      "0    1.0  \n",
      "  Cytokine                  Feature Well Comparison  T-Statistic  p-value  \\\n",
      "0     IL22  Granularity_1_CorrActin        B2 vs C2       -2.509    0.012   \n",
      "\n",
      "   Power  \n",
      "0    1.0  \n",
      "  Cytokine                  Feature Well Comparison  T-Statistic  p-value  \\\n",
      "0     IL22  Granularity_1_CorrActin        B2 vs C2       -2.509    0.012   \n",
      "\n",
      "   Power  \n",
      "0    1.0  \n",
      "  Cytokine                  Feature Well Comparison  T-Statistic  p-value  \\\n",
      "0     IL26  Granularity_1_CorrActin        F2 vs G2        6.918      0.0   \n",
      "\n",
      "   Power  \n",
      "0    1.0  \n",
      "  Cytokine                  Feature Well Comparison  T-Statistic  p-value  \\\n",
      "0     IL26  Granularity_1_CorrActin        F2 vs G2        6.918      0.0   \n",
      "\n",
      "   Power  \n",
      "0    1.0  \n",
      "  Cytokine                  Feature Well Comparison  T-Statistic  p-value  \\\n",
      "0     IL26  Granularity_1_CorrActin        F2 vs G2        6.918      0.0   \n",
      "\n",
      "   Power  \n",
      "0    1.0  \n",
      "  Cytokine                  Feature Well Comparison  T-Statistic  p-value  \\\n",
      "0     IL26  Granularity_1_CorrActin        F2 vs G2        6.918      0.0   \n",
      "\n",
      "   Power  \n",
      "0    1.0  \n",
      "  Cytokine                  Feature Well Comparison  T-Statistic  p-value  \\\n",
      "0     IL26  Granularity_1_CorrActin        F2 vs G2        6.918      0.0   \n",
      "\n",
      "   Power  \n",
      "0    1.0  \n",
      "  Cytokine                  Feature Well Comparison  T-Statistic  p-value  \\\n",
      "0     IL26  Granularity_1_CorrActin        F2 vs G2        6.918      0.0   \n",
      "\n",
      "   Power  \n",
      "0    1.0  \n",
      "  Cytokine                  Feature Well Comparison  T-Statistic  p-value  \\\n",
      "0      IL9  Granularity_1_CorrActin        B9 vs C9       -6.711      0.0   \n",
      "\n",
      "   Power  \n",
      "0    1.0  \n",
      "  Cytokine                  Feature Well Comparison  T-Statistic  p-value  \\\n",
      "0      IL9  Granularity_1_CorrActin        B9 vs C9       -6.711      0.0   \n",
      "\n",
      "   Power  \n",
      "0    1.0  \n",
      "  Cytokine                  Feature Well Comparison  T-Statistic  p-value  \\\n",
      "0      IL9  Granularity_1_CorrActin        B9 vs C9       -6.711      0.0   \n",
      "\n",
      "   Power  \n",
      "0    1.0  \n",
      "  Cytokine                  Feature Well Comparison  T-Statistic  p-value  \\\n",
      "0      IL9  Granularity_1_CorrActin        B9 vs C9       -6.711      0.0   \n",
      "\n",
      "   Power  \n",
      "0    1.0  \n",
      "  Cytokine                  Feature Well Comparison  T-Statistic  p-value  \\\n",
      "0      IL9  Granularity_1_CorrActin        B9 vs C9       -6.711      0.0   \n",
      "\n",
      "   Power  \n",
      "0    1.0  \n",
      "  Cytokine                  Feature Well Comparison  T-Statistic  p-value  \\\n",
      "0      IL9  Granularity_1_CorrActin        B9 vs C9       -6.711      0.0   \n",
      "\n",
      "   Power  \n",
      "0    1.0  \n",
      "  Cytokine                  Feature Well Comparison  T-Statistic  p-value  \\\n",
      "0     TGFb  Granularity_1_CorrActin        B2 vs C2       -2.535    0.011   \n",
      "\n",
      "   Power  \n",
      "0    1.0  \n",
      "  Cytokine                  Feature Well Comparison  T-Statistic  p-value  \\\n",
      "0     TGFb  Granularity_1_CorrActin        B2 vs C2       -2.535    0.011   \n",
      "\n",
      "   Power  \n",
      "0    1.0  \n",
      "  Cytokine                  Feature Well Comparison  T-Statistic  p-value  \\\n",
      "0     TGFb  Granularity_1_CorrActin        B2 vs C2       -2.535    0.011   \n",
      "\n",
      "   Power  \n",
      "0    1.0  \n",
      "  Cytokine                  Feature Well Comparison  T-Statistic  p-value  \\\n",
      "0     TGFb  Granularity_1_CorrActin        B2 vs C2       -2.535    0.011   \n",
      "\n",
      "   Power  \n",
      "0    1.0  \n",
      "  Cytokine                  Feature Well Comparison  T-Statistic  p-value  \\\n",
      "0     TGFb  Granularity_1_CorrActin        B2 vs C2       -2.535    0.011   \n",
      "\n",
      "   Power  \n",
      "0    1.0  \n",
      "  Cytokine                  Feature Well Comparison  T-Statistic  p-value  \\\n",
      "0     TGFb  Granularity_1_CorrActin        B2 vs C2       -2.535    0.011   \n",
      "\n",
      "   Power  \n",
      "0    1.0  \n",
      "  Cytokine                  Feature Well Comparison  T-Statistic  p-value  \\\n",
      "0     TNFa  Granularity_1_CorrActin        F9 vs G9        0.148    0.882   \n",
      "\n",
      "   Power  \n",
      "0    1.0  \n",
      "  Cytokine                  Feature Well Comparison  T-Statistic  p-value  \\\n",
      "0     TNFa  Granularity_1_CorrActin        F9 vs G9        0.148    0.882   \n",
      "\n",
      "   Power  \n",
      "0    1.0  \n",
      "  Cytokine                  Feature Well Comparison  T-Statistic  p-value  \\\n",
      "0     TNFa  Granularity_1_CorrActin        F9 vs G9        0.148    0.882   \n",
      "\n",
      "   Power  \n",
      "0    1.0  \n",
      "  Cytokine                  Feature Well Comparison  T-Statistic  p-value  \\\n",
      "0     TNFa  Granularity_1_CorrActin        F9 vs G9        0.148    0.882   \n",
      "\n",
      "   Power  \n",
      "0    1.0  \n",
      "  Cytokine                  Feature Well Comparison  T-Statistic  p-value  \\\n",
      "0     TNFa  Granularity_1_CorrActin        F9 vs G9        0.148    0.882   \n",
      "\n",
      "   Power  \n",
      "0    1.0  \n",
      "  Cytokine                  Feature Well Comparison  T-Statistic  p-value  \\\n",
      "0     TNFa  Granularity_1_CorrActin        F9 vs G9        0.148    0.882   \n",
      "\n",
      "   Power  \n",
      "0    1.0  \n"
     ]
    }
   ],
   "source": [
    "# by wells\n",
    "for i in cdw:\n",
    "    if i[0]=='untr' or i[0]=='untr-50':\n",
    "        continue\n",
    "    print(get_ttest_wells(i[0], feature, df_iqr))\n",
    "# df_sd_removed_untr = {}\n",
    "# for k, v in zip(df_sd_removed.keys(), df_sd_removed.values()):\n",
    "#     tmp = pd.concat([v[v['Metadata_Metadata_Cytokine']=='untr'], v[v['Metadata_Metadata_Cytokine']=='untr-50']])\n",
    "#     df_sd_removed_untr[k] = tmp\n",
    "# df_iqr_untr = pd.concat([df_iqr[df_iqr['Metadata_Metadata_Cytokine']=='untr'], df_iqr[df_iqr['Metadata_Metadata_Cytokine']=='untr-50']])\n",
    "\n",
    "# print(df_iqr_untr.shape[0])\n",
    "# for i in sds:\n",
    "#     print(df_sd_removed_untr[i].shape[0])"
   ]
  },
  {
   "cell_type": "markdown",
   "metadata": {},
   "source": [
    "### add threshold to the last prompt by looking into out of all variables, in how many of those is a data point an outlier"
   ]
  },
  {
   "cell_type": "markdown",
   "metadata": {},
   "source": []
  },
  {
   "cell_type": "markdown",
   "metadata": {},
   "source": [
    "### look at different groups of variables or different signals (DNA/WGA/Mito/Golgi)"
   ]
  },
  {
   "cell_type": "code",
   "execution_count": null,
   "metadata": {},
   "outputs": [],
   "source": [
    "# features = df.columns[6:]\n",
    "groups = ['Granularity', 'Intensity',\n",
    "            'Texture_AngularSecondMoment', \n",
    "            'Texture_Contrast',\n",
    "            'RadialDistribution_MeanFrac',\n",
    "            'RadialDistribution_ZernikeMagnitude',\n",
    "            'Area'\n",
    "            ]\n",
    "gran = df.filter(regex='Inten', axis=1).columns.tolist()"
   ]
  },
  {
   "cell_type": "markdown",
   "metadata": {},
   "source": []
  }
 ],
 "metadata": {
  "kernelspec": {
   "display_name": "Python 3",
   "language": "python",
   "name": "python3"
  },
  "language_info": {
   "codemirror_mode": {
    "name": "ipython",
    "version": 3
   },
   "file_extension": ".py",
   "mimetype": "text/x-python",
   "name": "python",
   "nbconvert_exporter": "python",
   "pygments_lexer": "ipython3",
   "version": "3.9.5"
  }
 },
 "nbformat": 4,
 "nbformat_minor": 2
}
