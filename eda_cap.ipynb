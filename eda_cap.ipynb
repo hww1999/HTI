{
 "cells": [
  {
   "cell_type": "code",
   "execution_count": 1,
   "metadata": {},
   "outputs": [],
   "source": [
    "import pandas as pd\n",
    "import numpy as np"
   ]
  },
  {
   "attachments": {},
   "cell_type": "markdown",
   "metadata": {},
   "source": [
    "PAM194_Keratino_CytoPanel_1 - K1_194\n",
    "\n",
    "PAM195_Fibro_CytoPanel_1 - F1_195\n",
    "\n",
    "PAM197_Keratino_CytoPanel_1 - K1_197\n",
    "\n",
    "PAM198_Keratino_CytoPanel_2 - K2_198\n",
    "\n",
    "PAM199_Keratino_CytoPanel_2 - K2_199\n",
    "\n",
    "PAM202_Fibro_CytoPanel_2 - F2_202\n",
    "\n",
    "PAM203_Fibro_CytoPanel_2 - F2_203"
   ]
  },
  {
   "cell_type": "code",
   "execution_count": 20,
   "metadata": {},
   "outputs": [],
   "source": [
    "K1_194_exp = pd.read_csv('PAM194_Keratino_CytoPanel_1/pam194Experiment.csv')\n",
    "col_exp = list(K1_194_exp.columns)"
   ]
  },
  {
   "cell_type": "code",
   "execution_count": 22,
   "metadata": {},
   "outputs": [],
   "source": [
    "K1_194_img = pd.read_csv('PAM194_Keratino_CytoPanel_1/pam194Image.csv')\n",
    "col_img = list(K1_194_img.columns)"
   ]
  },
  {
   "cell_type": "code",
   "execution_count": 23,
   "metadata": {},
   "outputs": [],
   "source": [
    "K1_194_cell = pd.read_csv('PAM194_Keratino_CytoPanel_1/pam194ObjCell.csv')\n",
    "col_cell = list(K1_194_cell.columns)"
   ]
  },
  {
   "cell_type": "code",
   "execution_count": 24,
   "metadata": {},
   "outputs": [],
   "source": [
    "K1_194_nuclei = pd.read_csv('PAM194_Keratino_CytoPanel_1/pam194ObjNuclei.csv')\n",
    "col_nuclei = list(K1_194_nuclei.columns)"
   ]
  },
  {
   "cell_type": "code",
   "execution_count": 25,
   "metadata": {},
   "outputs": [],
   "source": [
    "K1_194_peri = pd.read_csv('PAM194_Keratino_CytoPanel_1/pam194ObjPerinuclear.csv')\n",
    "col_peri = list(K1_194_peri.columns)"
   ]
  },
  {
   "cell_type": "code",
   "execution_count": 26,
   "metadata": {},
   "outputs": [],
   "source": [
    "K1_194_filtered = pd.read_csv('PAM194_Keratino_CytoPanel_1/pam194FilteredNuclei.csv')\n",
    "col_filtered = list(K1_194_filtered.columns)"
   ]
  },
  {
   "cell_type": "code",
   "execution_count": 27,
   "metadata": {},
   "outputs": [],
   "source": [
    "K1_194_Allcyto = pd.read_csv('PAM194_Keratino_CytoPanel_1/pam194ObjAllcyto.csv')\n",
    "col_Allcyto = list(K1_194_Allcyto.columns)"
   ]
  },
  {
   "cell_type": "code",
   "execution_count": 28,
   "metadata": {},
   "outputs": [],
   "source": [
    "K1_194_nucCyto = pd.read_csv('PAM194_Keratino_CytoPanel_1/pam194ObjPerinucCyto.csv')\n",
    "col_nucCyto = list(K1_194_nucCyto.columns)"
   ]
  },
  {
   "cell_type": "code",
   "execution_count": 47,
   "metadata": {},
   "outputs": [],
   "source": [
    "gran = ['Granularity_1_CorrActin',\n",
    " 'Granularity_1_CorrDNA2',\n",
    " 'Granularity_1_CorrGolgi',\n",
    " 'Granularity_1_CorrMito',\n",
    " 'Granularity_1_CorrNileRed',\n",
    " 'Granularity_1_CorrWGA',\n",
    " 'Granularity_2_CorrActin',\n",
    " 'Granularity_2_CorrDNA2',\n",
    " 'Granularity_2_CorrGolgi',\n",
    " 'Granularity_2_CorrMito',\n",
    " 'Granularity_2_CorrNileRed',\n",
    " 'Granularity_2_CorrWGA',\n",
    " 'Granularity_3_CorrActin',\n",
    " 'Granularity_3_CorrDNA2',\n",
    " 'Granularity_3_CorrGolgi',\n",
    " 'Granularity_3_CorrMito',\n",
    " 'Granularity_3_CorrNileRed',\n",
    " 'Granularity_3_CorrWGA',\n",
    " 'Granularity_4_CorrActin',\n",
    " 'Granularity_4_CorrDNA2',\n",
    " 'Granularity_4_CorrGolgi',\n",
    " 'Granularity_4_CorrMito',\n",
    " 'Granularity_4_CorrNileRed',\n",
    " 'Granularity_4_CorrWGA']"
   ]
  },
  {
   "cell_type": "code",
   "execution_count": 48,
   "metadata": {},
   "outputs": [],
   "source": [
    "intensity = ['Intensity_MedianIntensity_CorrActin',\n",
    " 'Intensity_MedianIntensity_CorrDNA2',\n",
    " 'Intensity_MedianIntensity_CorrGolgi',\n",
    " 'Intensity_MedianIntensity_CorrMito',\n",
    " 'Intensity_MedianIntensity_CorrNileRed',\n",
    " 'Intensity_MedianIntensity_CorrWGA']"
   ]
  },
  {
   "cell_type": "code",
   "execution_count": 49,
   "metadata": {},
   "outputs": [],
   "source": [
    "RadialDistribution_MeanFrac = ['RadialDistribution_MeanFrac_CorrActin_1of3',\n",
    " 'RadialDistribution_MeanFrac_CorrActin_2of3',\n",
    " 'RadialDistribution_MeanFrac_CorrActin_3of3',\n",
    " 'RadialDistribution_MeanFrac_CorrDNA2_1of3',\n",
    " 'RadialDistribution_MeanFrac_CorrDNA2_2of3',\n",
    " 'RadialDistribution_MeanFrac_CorrDNA2_3of3',\n",
    " 'RadialDistribution_MeanFrac_CorrGolgi_1of3',\n",
    " 'RadialDistribution_MeanFrac_CorrGolgi_2of3',\n",
    " 'RadialDistribution_MeanFrac_CorrGolgi_3of3',\n",
    " 'RadialDistribution_MeanFrac_CorrMito_1of3',\n",
    " 'RadialDistribution_MeanFrac_CorrMito_2of3',\n",
    " 'RadialDistribution_MeanFrac_CorrMito_3of3',\n",
    " 'RadialDistribution_MeanFrac_CorrNileRed_1of3',\n",
    " 'RadialDistribution_MeanFrac_CorrNileRed_2of3',\n",
    " 'RadialDistribution_MeanFrac_CorrNileRed_3of3',\n",
    " 'RadialDistribution_MeanFrac_CorrWGA_1of3',\n",
    " 'RadialDistribution_MeanFrac_CorrWGA_2of3',\n",
    " 'RadialDistribution_MeanFrac_CorrWGA_3of3']"
   ]
  },
  {
   "cell_type": "code",
   "execution_count": 71,
   "metadata": {},
   "outputs": [],
   "source": [
    "# in Allcyto\n",
    "\n",
    "RadialDistribution_ZernikeMagnitude = ['RadialDistribution_ZernikeMagnitude_CorrActin_0_0',\n",
    " 'RadialDistribution_ZernikeMagnitude_CorrActin_1_1',\n",
    " 'RadialDistribution_ZernikeMagnitude_CorrActin_2_0',\n",
    " 'RadialDistribution_ZernikeMagnitude_CorrActin_2_2',\n",
    " 'RadialDistribution_ZernikeMagnitude_CorrActin_3_1',\n",
    " 'RadialDistribution_ZernikeMagnitude_CorrActin_3_3',\n",
    " 'RadialDistribution_ZernikeMagnitude_CorrDNA2_0_0',\n",
    " 'RadialDistribution_ZernikeMagnitude_CorrDNA2_1_1',\n",
    " 'RadialDistribution_ZernikeMagnitude_CorrDNA2_2_0',\n",
    " 'RadialDistribution_ZernikeMagnitude_CorrDNA2_2_2',\n",
    " 'RadialDistribution_ZernikeMagnitude_CorrDNA2_3_1',\n",
    " 'RadialDistribution_ZernikeMagnitude_CorrDNA2_3_3',\n",
    " 'RadialDistribution_ZernikeMagnitude_CorrGolgi_0_0',\n",
    " 'RadialDistribution_ZernikeMagnitude_CorrGolgi_1_1',\n",
    " 'RadialDistribution_ZernikeMagnitude_CorrGolgi_2_0',\n",
    " 'RadialDistribution_ZernikeMagnitude_CorrGolgi_2_2',\n",
    " 'RadialDistribution_ZernikeMagnitude_CorrGolgi_3_1',\n",
    " 'RadialDistribution_ZernikeMagnitude_CorrGolgi_3_3',\n",
    " 'RadialDistribution_ZernikeMagnitude_CorrMito_0_0',\n",
    " 'RadialDistribution_ZernikeMagnitude_CorrMito_1_1',\n",
    " 'RadialDistribution_ZernikeMagnitude_CorrMito_2_0',\n",
    " 'RadialDistribution_ZernikeMagnitude_CorrMito_2_2',\n",
    " 'RadialDistribution_ZernikeMagnitude_CorrMito_3_1',\n",
    " 'RadialDistribution_ZernikeMagnitude_CorrMito_3_3',\n",
    " 'RadialDistribution_ZernikeMagnitude_CorrNileRed_0_0',\n",
    " 'RadialDistribution_ZernikeMagnitude_CorrNileRed_1_1',\n",
    " 'RadialDistribution_ZernikeMagnitude_CorrNileRed_2_0',\n",
    " 'RadialDistribution_ZernikeMagnitude_CorrNileRed_2_2',\n",
    " 'RadialDistribution_ZernikeMagnitude_CorrNileRed_3_1',\n",
    " 'RadialDistribution_ZernikeMagnitude_CorrNileRed_3_3',\n",
    " 'RadialDistribution_ZernikeMagnitude_CorrWGA_0_0',\n",
    " 'RadialDistribution_ZernikeMagnitude_CorrWGA_1_1',\n",
    " 'RadialDistribution_ZernikeMagnitude_CorrWGA_2_0',\n",
    " 'RadialDistribution_ZernikeMagnitude_CorrWGA_2_2',\n",
    " 'RadialDistribution_ZernikeMagnitude_CorrWGA_3_1',\n",
    " 'RadialDistribution_ZernikeMagnitude_CorrWGA_3_3']"
   ]
  },
  {
   "cell_type": "code",
   "execution_count": 51,
   "metadata": {},
   "outputs": [],
   "source": [
    "texture_ang2 = ['Texture_AngularSecondMoment_CorrActin_3_00_256',\n",
    " 'Texture_AngularSecondMoment_CorrActin_3_01_256',\n",
    " 'Texture_AngularSecondMoment_CorrActin_3_02_256',\n",
    " 'Texture_AngularSecondMoment_CorrActin_3_03_256',\n",
    " 'Texture_AngularSecondMoment_CorrDNA2_3_00_256',\n",
    " 'Texture_AngularSecondMoment_CorrDNA2_3_01_256',\n",
    " 'Texture_AngularSecondMoment_CorrDNA2_3_02_256',\n",
    " 'Texture_AngularSecondMoment_CorrDNA2_3_03_256',\n",
    " 'Texture_AngularSecondMoment_CorrGolgi_3_00_256',\n",
    " 'Texture_AngularSecondMoment_CorrGolgi_3_01_256',\n",
    " 'Texture_AngularSecondMoment_CorrGolgi_3_02_256',\n",
    " 'Texture_AngularSecondMoment_CorrGolgi_3_03_256',\n",
    " 'Texture_AngularSecondMoment_CorrMito_3_00_256',\n",
    " 'Texture_AngularSecondMoment_CorrMito_3_01_256',\n",
    " 'Texture_AngularSecondMoment_CorrMito_3_02_256',\n",
    " 'Texture_AngularSecondMoment_CorrMito_3_03_256',\n",
    " 'Texture_AngularSecondMoment_CorrNileRed_3_00_256',\n",
    " 'Texture_AngularSecondMoment_CorrNileRed_3_01_256',\n",
    " 'Texture_AngularSecondMoment_CorrNileRed_3_02_256',\n",
    " 'Texture_AngularSecondMoment_CorrNileRed_3_03_256',\n",
    " 'Texture_AngularSecondMoment_CorrWGA_3_00_256',\n",
    " 'Texture_AngularSecondMoment_CorrWGA_3_01_256',\n",
    " 'Texture_AngularSecondMoment_CorrWGA_3_02_256',\n",
    " 'Texture_AngularSecondMoment_CorrWGA_3_03_256']"
   ]
  },
  {
   "cell_type": "code",
   "execution_count": 52,
   "metadata": {},
   "outputs": [],
   "source": [
    "texture_con = [ 'Texture_Contrast_CorrActin_3_00_256',\n",
    " 'Texture_Contrast_CorrActin_3_01_256',\n",
    " 'Texture_Contrast_CorrActin_3_02_256',\n",
    " 'Texture_Contrast_CorrActin_3_03_256',\n",
    " 'Texture_Contrast_CorrDNA2_3_00_256',\n",
    " 'Texture_Contrast_CorrDNA2_3_01_256',\n",
    " 'Texture_Contrast_CorrDNA2_3_02_256',\n",
    " 'Texture_Contrast_CorrDNA2_3_03_256',\n",
    " 'Texture_Contrast_CorrGolgi_3_00_256',\n",
    " 'Texture_Contrast_CorrGolgi_3_01_256',\n",
    " 'Texture_Contrast_CorrGolgi_3_02_256',\n",
    " 'Texture_Contrast_CorrGolgi_3_03_256',\n",
    " 'Texture_Contrast_CorrMito_3_00_256',\n",
    " 'Texture_Contrast_CorrMito_3_01_256',\n",
    " 'Texture_Contrast_CorrMito_3_02_256',\n",
    " 'Texture_Contrast_CorrMito_3_03_256',\n",
    " 'Texture_Contrast_CorrNileRed_3_00_256',\n",
    " 'Texture_Contrast_CorrNileRed_3_01_256',\n",
    " 'Texture_Contrast_CorrNileRed_3_02_256',\n",
    " 'Texture_Contrast_CorrNileRed_3_03_256',\n",
    " 'Texture_Contrast_CorrWGA_3_00_256',\n",
    " 'Texture_Contrast_CorrWGA_3_01_256',\n",
    " 'Texture_Contrast_CorrWGA_3_02_256',\n",
    " 'Texture_Contrast_CorrWGA_3_03_256']"
   ]
  },
  {
   "cell_type": "markdown",
   "metadata": {},
   "source": []
  },
  {
   "cell_type": "code",
   "execution_count": 54,
   "metadata": {},
   "outputs": [],
   "source": [
    "# 'AreaShape_Area' and 'AreaShape_Orientation' are contained in cell, and nuclei\n",
    "# 'Number_Object_Number' is in nuclei\n",
    "\n",
    "area = ['AreaShape_Area',\n",
    " 'AreaShape_Orientation',\n",
    " 'Number_Object_Number']"
   ]
  },
  {
   "cell_type": "code",
   "execution_count": 68,
   "metadata": {},
   "outputs": [
    {
     "name": "stdout",
     "output_type": "stream",
     "text": [
      "mean:  103.20732610028975\n",
      "median:  92.0\n",
      "std:  41.8985149063933\n"
     ]
    }
   ],
   "source": [
    "print('mean: ', K1_194_nuclei['AreaShape_Area'].mean())\n",
    "print('median: ', K1_194_nuclei['AreaShape_Area'].median())\n",
    "print('std: ', K1_194_nuclei['AreaShape_Area'].std())"
   ]
  },
  {
   "cell_type": "code",
   "execution_count": 69,
   "metadata": {},
   "outputs": [
    {
     "name": "stdout",
     "output_type": "stream",
     "text": [
      "mean:  947.1748810495194\n",
      "median:  609.0\n",
      "std:  1008.4041721595032\n"
     ]
    }
   ],
   "source": [
    "\n",
    "print('mean: ', K1_194_cell['AreaShape_Area'].mean())\n",
    "print('median: ', K1_194_cell['AreaShape_Area'].median())\n",
    "print('std: ', K1_194_cell['AreaShape_Area'].std())"
   ]
  },
  {
   "cell_type": "code",
   "execution_count": 19,
   "metadata": {},
   "outputs": [
    {
     "data": {
      "text/plain": [
       "{'RadialDistribution_ZernikeMagnitude_CorrActin_0_0',\n",
       " 'RadialDistribution_ZernikeMagnitude_CorrActin_1_1',\n",
       " 'RadialDistribution_ZernikeMagnitude_CorrActin_2_0',\n",
       " 'RadialDistribution_ZernikeMagnitude_CorrActin_2_2',\n",
       " 'RadialDistribution_ZernikeMagnitude_CorrActin_3_1',\n",
       " 'RadialDistribution_ZernikeMagnitude_CorrActin_3_3',\n",
       " 'RadialDistribution_ZernikeMagnitude_CorrDNA2_0_0',\n",
       " 'RadialDistribution_ZernikeMagnitude_CorrDNA2_1_1',\n",
       " 'RadialDistribution_ZernikeMagnitude_CorrDNA2_2_0',\n",
       " 'RadialDistribution_ZernikeMagnitude_CorrDNA2_2_2',\n",
       " 'RadialDistribution_ZernikeMagnitude_CorrDNA2_3_1',\n",
       " 'RadialDistribution_ZernikeMagnitude_CorrDNA2_3_3',\n",
       " 'RadialDistribution_ZernikeMagnitude_CorrGolgi_0_0',\n",
       " 'RadialDistribution_ZernikeMagnitude_CorrGolgi_1_1',\n",
       " 'RadialDistribution_ZernikeMagnitude_CorrGolgi_2_0',\n",
       " 'RadialDistribution_ZernikeMagnitude_CorrGolgi_2_2',\n",
       " 'RadialDistribution_ZernikeMagnitude_CorrGolgi_3_1',\n",
       " 'RadialDistribution_ZernikeMagnitude_CorrGolgi_3_3',\n",
       " 'RadialDistribution_ZernikeMagnitude_CorrMito_0_0',\n",
       " 'RadialDistribution_ZernikeMagnitude_CorrMito_1_1',\n",
       " 'RadialDistribution_ZernikeMagnitude_CorrMito_2_0',\n",
       " 'RadialDistribution_ZernikeMagnitude_CorrMito_2_2',\n",
       " 'RadialDistribution_ZernikeMagnitude_CorrMito_3_1',\n",
       " 'RadialDistribution_ZernikeMagnitude_CorrMito_3_3',\n",
       " 'RadialDistribution_ZernikeMagnitude_CorrNileRed_0_0',\n",
       " 'RadialDistribution_ZernikeMagnitude_CorrNileRed_1_1',\n",
       " 'RadialDistribution_ZernikeMagnitude_CorrNileRed_2_0',\n",
       " 'RadialDistribution_ZernikeMagnitude_CorrNileRed_2_2',\n",
       " 'RadialDistribution_ZernikeMagnitude_CorrNileRed_3_1',\n",
       " 'RadialDistribution_ZernikeMagnitude_CorrNileRed_3_3',\n",
       " 'RadialDistribution_ZernikeMagnitude_CorrWGA_0_0',\n",
       " 'RadialDistribution_ZernikeMagnitude_CorrWGA_1_1',\n",
       " 'RadialDistribution_ZernikeMagnitude_CorrWGA_2_0',\n",
       " 'RadialDistribution_ZernikeMagnitude_CorrWGA_2_2',\n",
       " 'RadialDistribution_ZernikeMagnitude_CorrWGA_3_1',\n",
       " 'RadialDistribution_ZernikeMagnitude_CorrWGA_3_3'}"
      ]
     },
     "execution_count": 19,
     "metadata": {},
     "output_type": "execute_result"
    }
   ],
   "source": [
    "set(col_Allcyto) - set(col_nucCyto)"
   ]
  },
  {
   "cell_type": "code",
   "execution_count": null,
   "metadata": {},
   "outputs": [],
   "source": []
  }
 ],
 "metadata": {
  "kernelspec": {
   "display_name": "Python 3",
   "language": "python",
   "name": "python3"
  },
  "language_info": {
   "codemirror_mode": {
    "name": "ipython",
    "version": 3
   },
   "file_extension": ".py",
   "mimetype": "text/x-python",
   "name": "python",
   "nbconvert_exporter": "python",
   "pygments_lexer": "ipython3",
   "version": "3.10.0"
  },
  "orig_nbformat": 4
 },
 "nbformat": 4,
 "nbformat_minor": 2
}
